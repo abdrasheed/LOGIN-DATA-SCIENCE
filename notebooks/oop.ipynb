{
 "cells": [
  {
   "cell_type": "markdown",
   "metadata": {},
   "source": [
    "# OOP python"
   ]
  },
  {
   "cell_type": "markdown",
   "metadata": {},
   "source": [
    "## Create new class"
   ]
  },
  {
   "cell_type": "code",
   "execution_count": 14,
   "metadata": {},
   "outputs": [
    {
     "data": {
      "text/plain": [
       "'ahmed'"
      ]
     },
     "execution_count": 14,
     "metadata": {},
     "output_type": "execute_result"
    }
   ],
   "source": [
    "class student: # open new class\n",
    "    def __init__(self,first_name): # init function will be run outamiticly when use class \n",
    "        self.fname = first_name # self is the student\n",
    "student1 = student(\"ahmed\") # creat new object form class\n",
    "student1.fname # call attribute of object"
   ]
  },
  {
   "cell_type": "markdown",
   "metadata": {},
   "source": [
    "## Class Attributes"
   ]
  },
  {
   "cell_type": "code",
   "execution_count": 54,
   "metadata": {},
   "outputs": [
    {
     "name": "stdout",
     "output_type": "stream",
     "text": [
      "Hello MR :\n",
      "Name : waleed \n",
      "Age  : 28 \n",
      "GPA  : 89\n",
      "\n",
      "6\n"
     ]
    }
   ],
   "source": [
    "class student:\n",
    "    not_allow_names = [\"ramii\",\"shahed\"] \n",
    "    student_numbers = 0\n",
    "    # Magic methods [ __init__ , __str__ , __len__ ]\n",
    "    # 1) Init method, it will be run outamiticly when use class with no return value\n",
    "    def __init__(self,name, age, gpa, gender):  \n",
    "        self.name = name \n",
    "        self.age = age \n",
    "        self.gpa = gpa \n",
    "        self.gender = gender\n",
    "        student.student_numbers +=1\n",
    "    \n",
    "    # 2) str method, it will be run outamiticly when use class and using to return value\n",
    "    def __str__(self):\n",
    "        if self.name in student.not_allow_names:\n",
    "            return ValueError(\"Not Allow\")\n",
    "        else:\n",
    "            if self.gender == \"male\":\n",
    "                return f\"Hello MR :\\nName : {self.name} \\nAge  : {self.age} \\nGPA  : {self.gpa}\\n\"\n",
    "            else:\n",
    "                return f\"Hello MRS :\\nName : {self.name} \\nAge  : {self.age} \\nGPA  : {self.gpa}\\n\"\n",
    "    # 3) len method, it will be run outamiticly when use class and using to return value\n",
    "    def __len__(self):\n",
    "        return len(self.name)\n",
    "    \n",
    "    # Instance method  \n",
    "    def get_info(self): # create new function with my requerment.\n",
    "        if self.name in student.not_allow_names:\n",
    "            return ValueError(\"Not Allow\")\n",
    "        else:\n",
    "            if self.gender == \"male\":\n",
    "                return f\"Hello MR :\\nName : {self.name} \\nAge  : {self.age} \\nGPA  : {self.gpa}\\n\"\n",
    "            else:\n",
    "                return f\"Hello MRS :\\nName : {self.name} \\nAge  : {self.age} \\nGPA  : {self.gpa}\\n\"\n",
    "            \n",
    "    # Class method\n",
    "    @classmethod # Call class method with cls argument \n",
    "    def show_student_count(cls): # use for class method not instance and cls like self\n",
    "        return f\"Number of students is : {cls.student_numbers}\"\n",
    "    \n",
    "    # Static method\n",
    "    @staticmethod # Call static method with no argument \n",
    "    def say_hello():\n",
    "        return f\"Hello to static method\"\n",
    "    \n",
    "    \n",
    "            \n",
    "student1 = student(\"rami\",20,85,\"male\") \n",
    "student2 = student(\"shahd\",21,88,\"female\") \n",
    "student3 = student(\"sami\",30,90,\"male\") \n",
    "student4 = student(\"waleed\",28,89,\"male\") \n",
    "# print(student1.get_info()) # call attribute of object\n",
    "# print(student2.get_info())\n",
    "print(student4) \n",
    "print(len(student4)) \n",
    "# print(student.say_hello())\n",
    "# print(student.show_student_count())"
   ]
  },
  {
   "cell_type": "code",
   "execution_count": null,
   "metadata": {},
   "outputs": [],
   "source": []
  }
 ],
 "metadata": {
  "kernelspec": {
   "display_name": "Python 3",
   "language": "python",
   "name": "python3"
  },
  "language_info": {
   "codemirror_mode": {
    "name": "ipython",
    "version": 3
   },
   "file_extension": ".py",
   "mimetype": "text/x-python",
   "name": "python",
   "nbconvert_exporter": "python",
   "pygments_lexer": "ipython3",
   "version": "3.8.3"
  }
 },
 "nbformat": 4,
 "nbformat_minor": 4
}
